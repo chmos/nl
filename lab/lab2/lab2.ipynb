{
 "cells": [
  {
   "cell_type": "code",
   "execution_count": 1,
   "id": "b8957038-deff-4d4c-b679-ad0a0f65cc22",
   "metadata": {},
   "outputs": [
    {
     "name": "stdout",
     "output_type": "stream",
     "text": [
      "Parameter containing:\n",
      "tensor([[0.4955],\n",
      "        [0.5342]], requires_grad=True)\n",
      "[[12]\n",
      " [40]] (2, 1)\n",
      "tensor([[-2.0364, -6.2779]])\n",
      "sin2 =  tensor([[0.9394]], grad_fn=<SinBackward0>) y = tensor([[0.7870]])\n"
     ]
    }
   ],
   "source": [
    "import numpy as np\n",
    "import torch\n",
    "import torch.nn as nn\n",
    "import matplotlib.pyplot as plt\n",
    "\n",
    "# sin2\n",
    "class Sin2(nn.Module):\n",
    "    def __init__(self):\n",
    "        super(Sin2, self).__init__()\n",
    "        # -- must register this as parameter\n",
    "        self.w = torch.nn.Parameter(torch.rand(2, 1))\n",
    "\n",
    "    # xb is a bacth of x_i, i.e., x1, x2, .., xn\n",
    "    def forward(self, input):\n",
    "        output = torch.sin(torch.matmul(input, self.w))\n",
    "        # output.requires_grad=True\n",
    "        return output\n",
    "        \n",
    "# generate a sample batch: 20*2 input tensors, 20*2 output tensors\n",
    "# there are 20 samples in a batch\n",
    "def gen_samples(N, k):\n",
    "    x = np.random.uniform(-10, 10, [N, 2])\n",
    "    y = np.sin(np.matmul(x, k))\n",
    "    xb = torch.tensor(x.astype('float32'))\n",
    "    yb = torch.tensor(y.astype('float32'))\n",
    "    return xb, yb\n",
    "\n",
    "# test 1 sample\n",
    "sn = Sin2()\n",
    "print(sn.w)\n",
    "list1 = [12, 40]\n",
    "k = np.array(list1).transpose().reshape(2,1)\n",
    "print(k, k.shape)\n",
    "xb, yb = gen_samples(1, k)\n",
    "print(xb)\n",
    "print(\"sin2 = \", sn(xb), 'y =',yb)\n",
    "\n",
    "# generate training sample\n",
    "PI = 3.14159\n",
    "list1 = [12, 40]\n",
    "# k = np.array(list1).transpose().reshape(2,1)\n",
    "k = np.array([[PI/3], [PI/5]])\n",
    "xb, yb = gen_samples(100, k)"
   ]
  },
  {
   "cell_type": "code",
   "execution_count": 6,
   "id": "bc965f7b-0f86-473b-a15d-98283a4a2f25",
   "metadata": {},
   "outputs": [
    {
     "name": "stdout",
     "output_type": "stream",
     "text": [
      "Before training: Parameter containing:\n",
      "tensor([[0.7877],\n",
      "        [0.7384]], requires_grad=True) vs [[1.04719667]\n",
      " [0.628318  ]]\n",
      "After training: Parameter containing:\n",
      "tensor([[1.0453],\n",
      "        [0.6280]], requires_grad=True) vs. [[1.04719667]\n",
      " [0.628318  ]]\n"
     ]
    },
    {
     "data": {
      "text/plain": [
       "[<matplotlib.lines.Line2D at 0x268b7605750>]"
      ]
     },
     "execution_count": 6,
     "metadata": {},
     "output_type": "execute_result"
    },
    {
     "data": {
      "image/png": "[encoded data removed]",
      "text/plain": [
       "<Figure size 640x480 with 1 Axes>"
      ]
     },
     "metadata": {},
     "output_type": "display_data"
    }
   ],
   "source": [
    "# train the model once, and return the loss in this epoch\n",
    "def train_epoch(batch_in, batch_out, optimizer, model):\n",
    "    input = batch_in\n",
    "    output = model(input)\n",
    "    loss = nn.functional.l1_loss(output, batch_out)\n",
    "    model.zero_grad()\n",
    "    loss.backward()\n",
    "    optimizer.step()\n",
    "    return loss\n",
    "\n",
    "# sn is an instance of the model\n",
    "sn = Sin2()\n",
    "\n",
    "# optimizer for training\n",
    "optimizer = torch.optim.SGD(sn.parameters(), lr = 1e-3, \n",
    "                            weight_decay = 1e-3, momentum = 0.9)\n",
    "\n",
    "\n",
    "print('Before training:', sn.w, 'vs', k, )\n",
    "\n",
    "# ep records losses during training\n",
    "ep = []\n",
    "for i in range(1000):\n",
    "  # xb, yb = gen_samples(k)\n",
    "  loss = train_epoch(xb, yb, optimizer, sn)\n",
    "  if i % 10 == 0:\n",
    "      # -- you can not plot tensors. Need to\n",
    "      # change them into np vectors\n",
    "      # ep.append(loss.detach().numpy())\n",
    "      ep.append(loss.data)\n",
    "\n",
    "# show the trained parameters and plot losses\n",
    "print('After training:', sn.w, 'vs.', k)\n",
    "plt.figure()\n",
    "plt.plot(np.arange(len(ep)), ep)"
   ]
  },
  {
   "cell_type": "code",
   "execution_count": null,
   "id": "1c18cf84-54e4-48a7-b2ff-a7a309e24130",
   "metadata": {},
   "outputs": [],
   "source": []
  }
 ],
 "metadata": {
  "kernelspec": {
   "display_name": "Python 3 (ipykernel)",
   "language": "python",
   "name": "python3"
  },
  "language_info": {
   "codemirror_mode": {
    "name": "ipython",
    "version": 3
   },
   "file_extension": ".py",
   "mimetype": "text/x-python",
   "name": "python",
   "nbconvert_exporter": "python",
   "pygments_lexer": "ipython3",
   "version": "3.11.4"
  }
 },
 "nbformat": 4,
 "nbformat_minor": 5
}
