{
 "cells": [
  {
   "cell_type": "code",
   "execution_count": 2,
   "metadata": {
    "scrolled": true,
    "tags": []
   },
   "outputs": [
    {
     "name": "stdout",
     "output_type": "stream",
     "text": [
      "x =  tensor([[0.0172, 0.6357, 0.8203],\n",
      "        [0.3612, 0.6581, 0.7956],\n",
      "        [0.8128, 0.0606, 0.1128],\n",
      "        [0.9560, 0.1969, 0.5885],\n",
      "        [0.1137, 0.8740, 0.7232]])\n",
      "y =  tensor([[1., 1., 1.],\n",
      "        [1., 1., 1.],\n",
      "        [1., 1., 1.],\n",
      "        [1., 1., 1.],\n",
      "        [1., 1., 1.]])\n",
      "x stored in  cpu\n",
      "cuda =  False\n",
      "ver =  1.10.1+cu113\n"
     ]
    }
   ],
   "source": [
    "import os\n",
    "from time import time\n",
    "\n",
    "import numpy as np\n",
    "import torch\n",
    "import torchvision\n",
    "import matplotlib.pyplot as plt\n",
    "from torchvision import datasets, transforms\n",
    "from torch import nn, optim\n",
    "\n",
    "from PIL import Image\n",
    "from torchvision import transforms\n",
    "\n",
    "x = torch.rand(5, 3);\n",
    "y = torch.ones_like(x, dtype=torch.float)\n",
    "print(\"x = \", x);\n",
    "print(\"y = \", y);\n",
    "print(\"x stored in \", x.device);\n",
    "\n",
    "print(\"cuda = \", torch.cuda.is_available());\n",
    "print(\"ver = \", torch.__version__);"
   ]
  },
  {
   "cell_type": "code",
   "execution_count": 46,
   "metadata": {},
   "outputs": [
    {
     "name": "stdout",
     "output_type": "stream",
     "text": [
      "f = Conv2d(2, 3, kernel_size=(2, 2), stride=(1, 1))\n",
      "f.w = Parameter containing:\n",
      "tensor([[[[-0.2055,  0.0370],\n",
      "          [-0.2347, -0.3405]],\n",
      "\n",
      "         [[-0.0636, -0.0856],\n",
      "          [ 0.2693,  0.0525]]],\n",
      "\n",
      "\n",
      "        [[[ 0.0614,  0.2085],\n",
      "          [ 0.2603, -0.3450]],\n",
      "\n",
      "         [[-0.3467, -0.1968],\n",
      "          [ 0.1789, -0.3480]]],\n",
      "\n",
      "\n",
      "        [[[-0.0979,  0.2453],\n",
      "          [ 0.3219,  0.3522]],\n",
      "\n",
      "         [[-0.2867, -0.0854],\n",
      "          [-0.1855,  0.1230]]]], requires_grad=True)\n",
      "f.b = Parameter containing:\n",
      "tensor([-0.2146,  0.3283,  0.3328], requires_grad=True)\n"
     ]
    }
   ],
   "source": [
    "f = torch.nn.Conv2d(in_channels = 2, out_channels = 3, kernel_size = 2)\n",
    "print('f =', f)\n",
    "print('f.w =', f.weight)\n",
    "print('f.b =', f.bias)"
   ]
  },
  {
   "cell_type": "code",
   "execution_count": 139,
   "metadata": {},
   "outputs": [
    {
     "name": "stdout",
     "output_type": "stream",
     "text": [
      "lambda = [-0.5+1.32287566j -0.5-1.32287566j]\n",
      "X = [[0.3354102 -0.29580399j 0.3354102 +0.29580399j]\n",
      " [0.89442719+0.j         0.89442719-0.j        ]]\n",
      "[0.3354102 -0.29580399j 0.89442719+0.j        ] [ 0.2236068+0.59160798j -0.4472136+1.18321596j] [ 0.2236068+0.59160798j -0.4472136+1.18321596j]\n",
      "[0.3354102 +0.29580399j 0.89442719-0.j        ] [ 0.2236068-0.59160798j -0.4472136-1.18321596j] [ 0.2236068-0.59160798j -0.4472136-1.18321596j]\n",
      "torch.Size([60, 3])\n"
     ]
    },
    {
     "name": "stderr",
     "output_type": "stream",
     "text": [
      "c:\\users\\moson\\appdata\\local\\programs\\python\\python37\\lib\\site-packages\\ipykernel_launcher.py:20: ComplexWarning: Casting complex values to real discards the imaginary part\n"
     ]
    },
    {
     "data": {
      "image/png": "[encoded data removed]",
      "text/plain": [
       "<Figure size 432x288 with 1 Axes>"
      ]
     },
     "metadata": {
      "needs_background": "light"
     },
     "output_type": "display_data"
    }
   ],
   "source": [
    "# ODE, x' = Ax\n",
    "A = [[-2, 1], [-4, 1]]\n",
    "A = np.array(A) \n",
    "\n",
    "lam, X = np.linalg.eig(A)\n",
    "print('lambda =', lam)\n",
    "print('X =', X)\n",
    "v1 = X[:,0]\n",
    "v2 = X[:,1]\n",
    "\n",
    "print(v1, A@v1, lam[0] * v1)\n",
    "print(v2, A@v2, lam[1] * v2)\n",
    "\n",
    "# v(t) = v1*exp(lambda1 * t) + v2*exp(lambda2 * t)\n",
    "dt = 0.1\n",
    "t = np.arange(0, 6, dt)\n",
    "num = len(t)\n",
    "T = np.zeros([3, num])\n",
    "for i in range(num):\n",
    "    T[:2, i] = v1 * np.exp(lam[0]*t[i]) + v2 * np.exp(lam[1]*t[i])\n",
    "\n",
    "T[2,:] = t\n",
    "T = np.real(T)\n",
    "\n",
    "plt.figure()\n",
    "plt.plot(T[0, :], T[1, :], '.')\n",
    "\n",
    "T = T.transpose()\n",
    "T = torch.tensor(T).float()\n",
    "print(T.shape)\n"
   ]
  },
  {
   "cell_type": "code",
   "execution_count": 214,
   "metadata": {},
   "outputs": [
    {
     "name": "stdout",
     "output_type": "stream",
     "text": [
      "Transformer(\n",
      "  (encoder): TransformerEncoder(\n",
      "    (layers): ModuleList(\n",
      "      (0): TransformerEncoderLayer(\n",
      "        (self_attn): MultiheadAttention(\n",
      "          (out_proj): NonDynamicallyQuantizableLinear(in_features=3, out_features=3, bias=True)\n",
      "        )\n",
      "        (linear1): Linear(in_features=3, out_features=64, bias=True)\n",
      "        (dropout): Dropout(p=0.1, inplace=False)\n",
      "        (linear2): Linear(in_features=64, out_features=3, bias=True)\n",
      "        (norm1): LayerNorm((3,), eps=1e-05, elementwise_affine=True)\n",
      "        (norm2): LayerNorm((3,), eps=1e-05, elementwise_affine=True)\n",
      "        (dropout1): Dropout(p=0.1, inplace=False)\n",
      "        (dropout2): Dropout(p=0.1, inplace=False)\n",
      "      )\n",
      "    )\n",
      "    (norm): LayerNorm((3,), eps=1e-05, elementwise_affine=True)\n",
      "  )\n",
      "  (decoder): TransformerDecoder(\n",
      "    (layers): ModuleList(\n",
      "      (0): TransformerDecoderLayer(\n",
      "        (self_attn): MultiheadAttention(\n",
      "          (out_proj): NonDynamicallyQuantizableLinear(in_features=3, out_features=3, bias=True)\n",
      "        )\n",
      "        (multihead_attn): MultiheadAttention(\n",
      "          (out_proj): NonDynamicallyQuantizableLinear(in_features=3, out_features=3, bias=True)\n",
      "        )\n",
      "        (linear1): Linear(in_features=3, out_features=64, bias=True)\n",
      "        (dropout): Dropout(p=0.1, inplace=False)\n",
      "        (linear2): Linear(in_features=64, out_features=3, bias=True)\n",
      "        (norm1): LayerNorm((3,), eps=1e-05, elementwise_affine=True)\n",
      "        (norm2): LayerNorm((3,), eps=1e-05, elementwise_affine=True)\n",
      "        (norm3): LayerNorm((3,), eps=1e-05, elementwise_affine=True)\n",
      "        (dropout1): Dropout(p=0.1, inplace=False)\n",
      "        (dropout2): Dropout(p=0.1, inplace=False)\n",
      "        (dropout3): Dropout(p=0.1, inplace=False)\n",
      "      )\n",
      "    )\n",
      "    (norm): LayerNorm((3,), eps=1e-05, elementwise_affine=True)\n",
      "  )\n",
      ")\n"
     ]
    }
   ],
   "source": [
    "tf = torch.nn.Transformer(d_model=3, nhead=1, \n",
    "                          num_encoder_layers=1, num_decoder_layers=1, dim_feedforward=64, dropout=0.1,\n",
    "                          batch_first=True, norm_first=False, device=None, dtype=None)\n",
    "\n",
    "print(tf)"
   ]
  },
  {
   "cell_type": "code",
   "execution_count": 158,
   "metadata": {},
   "outputs": [
    {
     "name": "stdout",
     "output_type": "stream",
     "text": [
      "x = tensor([[[0.6708, 1.7889, 0.0000],\n",
      "         [0.7068, 1.6867, 0.1000],\n",
      "         [0.7258, 1.5623, 0.2000],\n",
      "         [0.7293, 1.4200, 0.3000],\n",
      "         [0.7186, 1.2643, 0.4000],\n",
      "         [0.6953, 1.0994, 0.5000]]]) 1 6 3\n",
      "y = tensor([[[0.0000, 0.0000, 0.5000]]])\n",
      "z = tensor([[[0.2281, 0.3132, 0.9293]]], grad_fn=<NativeLayerNormBackward0>)\n",
      "x = tensor([[[0.6708, 1.7889, 0.0000],\n",
      "         [0.7068, 1.6867, 0.1000],\n",
      "         [0.7258, 1.5623, 0.2000],\n",
      "         [0.7293, 1.4200, 0.3000],\n",
      "         [0.7186, 1.2643, 0.4000],\n",
      "         [0.6953, 1.0994, 0.5000],\n",
      "         [0.6609, 0.9292, 0.6000],\n",
      "         [0.6173, 0.7576, 0.7000]]])\n",
      "y = tensor([[[0.5661, 0.5880, 0.8000]]])\n",
      "h = tensor([[[0.0000, 0.0000, 0.8000]]])\n",
      "z = tensor([[[0.2259, 0.5552, 0.7560]]], grad_fn=<NativeLayerNormBackward0>)\n",
      "tensor([[0.6708, 1.7889, 0.0000],\n",
      "        [0.7068, 1.6867, 0.1000],\n",
      "        [0.7258, 1.5623, 0.2000],\n",
      "        [0.7293, 1.4200, 0.3000],\n",
      "        [0.7186, 1.2643, 0.4000],\n",
      "        [0.6953, 1.0994, 0.5000],\n",
      "        [0.6609, 0.9292, 0.6000]])\n"
     ]
    }
   ],
   "source": [
    "# convert double tensor to float and add batch dimension\n",
    "x = T[:6,:].unsqueeze(0)\n",
    "y = torch.zeros(1, 3).unsqueeze(0)\n",
    "y[0,0,2] = x[0, -1, 2]\n",
    "print('x =', x, x.size(0), x.size(1), x.size(2))\n",
    "print('y =', y)\n",
    "z = tf(x, y)\n",
    "print('z =', z)\n",
    "\n",
    "# load a sequence, the next prediction and the next hint from S\n",
    "def get_seq(S, pos, size = 8):\n",
    "    x = S[pos:(pos+size), :].unsqueeze(0)\n",
    "    y = S[(pos + size):(pos + size + 1), :].unsqueeze(0)\n",
    "    h = y.clone()\n",
    "    h[0, 0, :2] = 0\n",
    "    return x, y, h\n",
    "\n",
    "x, y, h = get_seq(T, 0)\n",
    "print('x =', x)\n",
    "print('y =', y)\n",
    "print('h =', h)\n",
    "\n",
    "z = tf(x, h)\n",
    "print('z =', z)\n",
    "\n",
    "print(x[0, :-1, :])"
   ]
  },
  {
   "cell_type": "code",
   "execution_count": 216,
   "metadata": {},
   "outputs": [
    {
     "name": "stdout",
     "output_type": "stream",
     "text": [
      "Epoch 0 - Training loss: 0.14284279840913686\n",
      "Epoch 20 - Training loss: 0.14595700123093344\n",
      "Epoch 40 - Training loss: 0.1473800614476204\n",
      "Epoch 60 - Training loss: 0.14572420199825006\n",
      "Epoch 80 - Training loss: 0.1335933818905191\n",
      "Epoch 100 - Training loss: 0.14356506895273924\n",
      "Epoch 120 - Training loss: 0.1382864679802548\n",
      "Epoch 140 - Training loss: 0.13901354309002106\n",
      "Epoch 160 - Training loss: 0.13551612638614394\n",
      "Epoch 180 - Training loss: 0.1348404609174891\n",
      "Epoch 200 - Training loss: 0.14655335958708415\n",
      "Epoch 220 - Training loss: 0.14080589603294025\n",
      "Epoch 240 - Training loss: 0.13097541775046426\n",
      "Epoch 260 - Training loss: 0.12714384157549252\n",
      "Epoch 280 - Training loss: 0.13920530621809038\n",
      "Epoch 300 - Training loss: 0.14032245706766844\n",
      "Epoch 320 - Training loss: 0.13330947421491146\n",
      "Epoch 340 - Training loss: 0.13396104306659914\n",
      "Epoch 360 - Training loss: 0.13335935496301812\n",
      "Epoch 380 - Training loss: 0.13417325846173547\n",
      "time elapsed 24.028389930725098 sec\n"
     ]
    }
   ],
   "source": [
    "# train\n",
    "S = T[:30, :]\n",
    "\n",
    "optimizer = optim.SGD(tf.parameters(), lr = 0.003, momentum = 0.9)\n",
    "criterion = nn.L1Loss()\n",
    "seq = 8\n",
    "\n",
    "time0 = time()\n",
    "num = S.size(0) - seq;\n",
    "\n",
    "for epoch in range(400):\n",
    "    rloss = 0\n",
    "    lst = torch.randperm(num)\n",
    "    for pos in lst:\n",
    "        x, y, h = get_seq(S, pos, size = seq)\n",
    "        optimizer.zero_grad();\n",
    "        yp = tf(x, h)\n",
    "        \n",
    "        # -- learning classification\n",
    "        loss = criterion(y, yp) # calculate the NLL loss\n",
    "        loss.backward()\n",
    "        optimizer.step()\n",
    "        rloss += loss.item()\n",
    "        \n",
    "    if epoch % 20 == 0:\n",
    "        print(\"Epoch {} - Training loss: {}\"\n",
    "          .format(epoch, rloss/num))\n",
    "    \n",
    "time1 = time()\n",
    "print('time elapsed', time1 - time0, 'sec')"
   ]
  },
  {
   "cell_type": "code",
   "execution_count": 217,
   "metadata": {},
   "outputs": [
    {
     "name": "stdout",
     "output_type": "stream",
     "text": [
      "t0 = tensor(0.8000)\n",
      "torch.Size([1, 67, 3])\n"
     ]
    }
   ],
   "source": [
    "# prediction\n",
    "X, y, h = get_seq(S, 0)\n",
    "x = X.clone()\n",
    "\n",
    "t0 = h[0, 0, 2]\n",
    "print('t0 =', t0)\n",
    "\n",
    "task = [1]\n",
    "if 1 in task:\n",
    "    while t0 < 6 * 1.1:\n",
    "        z = tf(x, h)\n",
    "        X = torch.cat((X, z), 1)\n",
    "        x[0, :-1, :] = x[0, 1:, :]\n",
    "        x[0, -1, :] = z\n",
    "        t0 += dt\n",
    "        h[0, 0, 2] = t0\n",
    "\n",
    "if 2 in task:\n",
    "    h = torch.zeros(1, 60, 3)\n",
    "    for i in range(60):\n",
    "        h[0, i, 2] = t0\n",
    "        t0 += dt\n",
    "    z = tf(x, h)\n",
    "    X = torch.cat((X, z), 1)\n",
    "\n",
    "print(X.shape)"
   ]
  },
  {
   "cell_type": "code",
   "execution_count": 218,
   "metadata": {},
   "outputs": [
    {
     "data": {
      "text/plain": [
       "[<matplotlib.lines.Line2D at 0x1e8c793f9c8>]"
      ]
     },
     "execution_count": 218,
     "metadata": {},
     "output_type": "execute_result"
    },
    {
     "data": {
      "image/png": "[encoded data removed]",
      "text/plain": [
       "<Figure size 432x288 with 1 Axes>"
      ]
     },
     "metadata": {
      "needs_background": "light"
     },
     "output_type": "display_data"
    }
   ],
   "source": [
    "Y = X.detach().squeeze(0).numpy()\n",
    "plt.figure()\n",
    "plt.plot(T[:, 0], T[:, 1], '.')\n",
    "plt.plot(Y[:, 0], Y[:, 1], 'r-')"
   ]
  },
  {
   "cell_type": "code",
   "execution_count": null,
   "metadata": {},
   "outputs": [],
   "source": []
  }
 ],
 "metadata": {
  "kernelspec": {
   "display_name": "Python 3 (ipykernel)",
   "language": "python",
   "name": "python3"
  },
  "language_info": {
   "codemirror_mode": {
    "name": "ipython",
    "version": 3
   },
   "file_extension": ".py",
   "mimetype": "text/x-python",
   "name": "python",
   "nbconvert_exporter": "python",
   "pygments_lexer": "ipython3",
   "version": "3.7.9"
  }
 },
 "nbformat": 4,
 "nbformat_minor": 4
}
