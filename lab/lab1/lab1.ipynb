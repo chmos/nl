{
 "cells": [
  {
   "cell_type": "code",
   "execution_count": 69,
   "id": "053577ef-7ada-464f-9452-367816aa0cac",
   "metadata": {},
   "outputs": [
    {
     "name": "stdout",
     "output_type": "stream",
     "text": [
      "Linear(in_features=3, out_features=3, bias=True)\n",
      "Parameter containing:\n",
      "tensor([[ 0.3067,  0.1942, -0.1861],\n",
      "        [-0.4418, -0.4339, -0.1888],\n",
      "        [ 0.0953, -0.4684, -0.0619]], requires_grad=True)\n",
      "Parameter containing:\n",
      "tensor([ 0.4389,  0.5619, -0.3333], requires_grad=True)\n"
     ]
    }
   ],
   "source": [
    "import numpy as np\n",
    "import torch\n",
    "import torch.nn as nn\n",
    "\n",
    "x = nn.Linear(3, 3)\n",
    "print(x)\n",
    "print(x.weight)\n",
    "print(x.bias)"
   ]
  },
  {
   "cell_type": "code",
   "execution_count": 70,
   "id": "c7c553d1-c798-4b53-9d1a-b276c605f844",
   "metadata": {},
   "outputs": [
    {
     "name": "stdout",
     "output_type": "stream",
     "text": [
      "A =\n",
      " [[ 3  4]\n",
      " [-2  2]]\n",
      "x =\n",
      " [[-6 -4  5  7  1  1  3 -8 -2 -1]\n",
      " [ 9 -6 -9  1  8 -8  1  6 -9  4]]\n",
      "y =\n",
      " [[ 18 -36 -21  25  35 -29  13   0 -42  13]\n",
      " [ 30  -4 -28 -12  14 -18  -4  28 -14  10]]\n"
     ]
    }
   ],
   "source": [
    "# generate x, A, y. y = A*x + b\n",
    "A = np.array([[3, 4], [-2, 2]])\n",
    "print('A =\\n', A)\n",
    "\n",
    "x = np.random.randint(-10, 10, size = [2, 10])\n",
    "y = np.matmul(A, x)\n",
    "print('x =\\n', x)\n",
    "print('y =\\n', y)"
   ]
  },
  {
   "cell_type": "code",
   "execution_count": 71,
   "id": "0993181e-664c-48ef-8c1b-976f7fc6e3aa",
   "metadata": {},
   "outputs": [
    {
     "name": "stdout",
     "output_type": "stream",
     "text": [
      "xb= tensor([[-6.,  9.],\n",
      "        [-4., -6.],\n",
      "        [ 5., -9.],\n",
      "        [ 7.,  1.],\n",
      "        [ 1.,  8.],\n",
      "        [ 1., -8.],\n",
      "        [ 3.,  1.],\n",
      "        [-8.,  6.],\n",
      "        [-2., -9.],\n",
      "        [-1.,  4.]])\n",
      "yf= tensor([[ 5.9178, -0.2766],\n",
      "        [-1.4562, -1.6872],\n",
      "        [-5.2825,  0.3871],\n",
      "        [-1.2778,  2.2408],\n",
      "        [ 3.5487,  1.5108],\n",
      "        [-3.7336, -0.5783],\n",
      "        [-0.1842,  1.1448],\n",
      "        [ 5.0992, -1.2164],\n",
      "        [-3.3685, -1.5309],\n",
      "        [ 2.2750,  0.4405]], grad_fn=<AddmmBackward0>)\n"
     ]
    }
   ],
   "source": [
    "class Fit(nn.Module):\n",
    "    def __init__(self):\n",
    "        super(Fit, self).__init__()\n",
    "        self.w = nn.Linear(2, 2)\n",
    "\n",
    "    # xb is a bacth of x_i, i.e., x1, x2, .., xn\n",
    "    def forward(self, xb):\n",
    "        bsz = xb.shape[0]\n",
    "        yb = self.w(xb) \n",
    "        # torch.matmul(self.w, xb) \n",
    "        return yb\n",
    "\n",
    "xb = torch.tensor(x.transpose().astype('float32'))\n",
    "yb = torch.tensor(y.transpose().astype('float32'))\n",
    "f = Fit()\n",
    "yf = f(xb)\n",
    "print('xb=', xb)\n",
    "print('yf=', yf)"
   ]
  },
  {
   "cell_type": "code",
   "execution_count": 77,
   "id": "50d7f988-4824-4826-97bf-f21f6dc4e0e7",
   "metadata": {},
   "outputs": [
    {
     "name": "stdout",
     "output_type": "stream",
     "text": [
      "Parameter containing:\n",
      "tensor([[ 1.9489,  3.3709],\n",
      "        [-1.9997,  1.9997]], requires_grad=True) Parameter containing:\n",
      "tensor([-4.0589e-01,  4.9759e-05], requires_grad=True)\n"
     ]
    }
   ],
   "source": [
    "# Create the network (from previous section) and optimizer\n",
    "f = Fit()\n",
    "optimizer = torch.optim.SGD(f.parameters(), lr = 1e-4, \n",
    "                            weight_decay = 1e-2, momentum = 0.9)\n",
    "\n",
    "# Run a sample training loop that \"teaches\" the network\n",
    "# to minimize the L1 loss\n",
    "for _ in range(2000):\n",
    "  input = xb\n",
    "  output = f(input)\n",
    "  loss = nn.functional.l1_loss(output, yb)\n",
    "  f.zero_grad()\n",
    "  loss.backward()\n",
    "  optimizer.step()\n",
    "\n",
    "# After training, switch the module to eval mode to do inference, compute performance metrics, etc.\n",
    "# (see discussion below for a description of training and evaluation modes)\n",
    "...\n",
    "f.eval()\n",
    "print(f.w.weight, f.w.bias)"
   ]
  },
  {
   "cell_type": "code",
   "execution_count": 129,
   "id": "41ae4563-85f6-4a9c-8d1d-1e4332577672",
   "metadata": {},
   "outputs": [
    {
     "name": "stdout",
     "output_type": "stream",
     "text": [
      "Sin()\n",
      "Parameter containing:\n",
      "tensor([0.7858], requires_grad=True) vs. 0.78539815\n"
     ]
    },
    {
     "data": {
      "text/plain": [
       "[<matplotlib.lines.Line2D at 0x194ebae53d0>]"
      ]
     },
     "execution_count": 129,
     "metadata": {},
     "output_type": "execute_result"
    },
    {
     "data": {
      "image/png": "[encoded data removed]",
      "text/plain": [
       "<Figure size 640x480 with 1 Axes>"
      ]
     },
     "metadata": {},
     "output_type": "display_data"
    }
   ],
   "source": [
    "import matplotlib.pyplot as plt\n",
    "\n",
    "# create a customized module\n",
    "class Sin(nn.Module):\n",
    "    def __init__(self):\n",
    "        super(Sin, self).__init__()\n",
    "        # -- must register this as parameter\n",
    "        self.w = torch.nn.Parameter(torch.rand(1))\n",
    "\n",
    "    # xb is a bacth of x_i, i.e., x1, x2, .., xn\n",
    "    # y = sin(k1*x0 + k2*x1)\n",
    "    def forward(self, input):\n",
    "        output = torch.sin(input * self.w)\n",
    "        # output.requires_grad=True\n",
    "        return output\n",
    "\n",
    "sn = Sin()\n",
    "print(sn)\n",
    "\n",
    "k = 3.1415926 / 4\n",
    "\n",
    "def gen_samples():\n",
    "    x = np.random.uniform(-10, 10, [20, 2])\n",
    "    y = np.sin(k * x)\n",
    "    xb = torch.tensor(x.transpose().astype('float32'))\n",
    "    yb = torch.tensor(y.transpose().astype('float32'))\n",
    "    return xb, yb\n",
    "\n",
    "optimizer = torch.optim.SGD(sn.parameters(), lr = 1e-4, \n",
    "                            weight_decay = 1e-2, momentum = 0.9)\n",
    "\n",
    "ep = []\n",
    "xb, yb = gen_samples()\n",
    "for i in range(1000):\n",
    "  xb, yb = gen_samples()\n",
    "  input = xb\n",
    "  output = sn(input)\n",
    "  loss = nn.functional.l1_loss(output, yb)\n",
    "  sn.zero_grad()\n",
    "  loss.backward()\n",
    "  optimizer.step()\n",
    "  if i % 10 == 0:\n",
    "      # -- you can not plot tensors. Need to\n",
    "      # change them into np vectors\n",
    "      ep.append(loss.detach().numpy())\n",
    "\n",
    "print(sn.w, 'vs.', k)\n",
    "plt.figure()\n",
    "plt.plot(np.arange(len(ep)), ep)"
   ]
  },
  {
   "cell_type": "code",
   "execution_count": null,
   "id": "d8a30eb4-f2fb-4ce2-a767-9b5c6f03247f",
   "metadata": {},
   "outputs": [],
   "source": []
  }
 ],
 "metadata": {
  "kernelspec": {
   "display_name": "Python 3 (ipykernel)",
   "language": "python",
   "name": "python3"
  },
  "language_info": {
   "codemirror_mode": {
    "name": "ipython",
    "version": 3
   },
   "file_extension": ".py",
   "mimetype": "text/x-python",
   "name": "python",
   "nbconvert_exporter": "python",
   "pygments_lexer": "ipython3",
   "version": "3.11.4"
  }
 },
 "nbformat": 4,
 "nbformat_minor": 5
}
